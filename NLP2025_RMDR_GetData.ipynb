{
 "cells": [
  {
   "cell_type": "code",
   "execution_count": 2,
   "id": "aa4c57a3-b336-4c1d-971a-c8c3e630281a",
   "metadata": {},
   "outputs": [],
   "source": [
    "import json\n",
    "import re\n"
   ]
  },
  {
   "cell_type": "code",
   "execution_count": 3,
   "id": "2eae4a89-e821-4517-96df-9b4c634ca1d1",
   "metadata": {},
   "outputs": [],
   "source": [
    "# Открываем скаченый json из телеграмм канала Минобороны РФ (https://t.me/mod_russia)\n",
    "with open('ChatExport_2025-04-05/result.json',  encoding=\"utf8\") as f:\n",
    "    templates = json.load(f)"
   ]
  },
  {
   "cell_type": "code",
   "execution_count": 4,
   "id": "a6596325-aa84-4c86-bd98-b442ec512c24",
   "metadata": {},
   "outputs": [],
   "source": [
    "# получаем списко всех сообщений\n",
    "list_all_messages = templates[\"messages\"]"
   ]
  },
  {
   "cell_type": "code",
   "execution_count": 10,
   "id": "73e2267b-5a88-4f33-b44a-ca2dc93731dd",
   "metadata": {},
   "outputs": [
    {
     "name": "stdout",
     "output_type": "stream",
     "text": [
      "37240\n"
     ]
    }
   ],
   "source": [
    "print(len(list_all_messages))"
   ]
  },
  {
   "cell_type": "code",
   "execution_count": 11,
   "id": "cabb59e0-efaa-43e4-acd3-e09bc0101204",
   "metadata": {},
   "outputs": [],
   "source": [
    "list_messages = list(filter(lambda message: message['type'] == 'message', list_all_messages))"
   ]
  },
  {
   "cell_type": "code",
   "execution_count": 12,
   "id": "026ba3dc-7aee-46a5-8821-d282108e30d5",
   "metadata": {},
   "outputs": [
    {
     "data": {
      "text/plain": [
       "37239"
      ]
     },
     "execution_count": 12,
     "metadata": {},
     "output_type": "execute_result"
    }
   ],
   "source": [
    "len(list_messages)"
   ]
  },
  {
   "cell_type": "code",
   "execution_count": 13,
   "id": "80e2c0f4-ce2b-4e5e-9f9c-dd9215a8a8e9",
   "metadata": {},
   "outputs": [],
   "source": [
    "# перебираем список сообщений и для каждого сообщения собираем \"чистый текст\" сообщения, без форматирования и \"лишних\" знаков типа иконок.\n",
    "# Результат добавляем в атрибут clearText\n",
    "for message in list_messages:\n",
    "    #print(message[\"id\"])\n",
    "    clearText = \"\"\n",
    "    if type( message[\"text_entities\"]) == list:\n",
    "        for text in message[\"text_entities\"]:\n",
    "            if text[\"type\"] == \"plain\" or text[\"type\"] == \"bold\":\n",
    "                clearText = clearText + text[\"text\"]\n",
    "        clearText = re.sub(r\"[^а-яА-Яa-zA-Z0-9 \\-\\,\\:\\.]\", \"\", clearText)\n",
    "        message[\"clearText\"] = clearText    "
   ]
  },
  {
   "cell_type": "code",
   "execution_count": 14,
   "id": "1d471da9-c226-4739-9b51-9d1bf4dfa1b4",
   "metadata": {},
   "outputs": [],
   "source": [
    "# Отфильтровываем из всех сообщений только сводки о ходе проведения СВО\n",
    "list_svodki =  list(filter(lambda message: 'Министерства обороны Российской Федерации о ходе проведения специальной военной операции' in message['clearText'], list_messages))"
   ]
  },
  {
   "cell_type": "code",
   "execution_count": 15,
   "id": "bfa6b5f6-d47b-4662-9afd-5963d8ba48ed",
   "metadata": {},
   "outputs": [
    {
     "data": {
      "text/plain": [
       "2166"
      ]
     },
     "execution_count": 15,
     "metadata": {},
     "output_type": "execute_result"
    }
   ],
   "source": [
    "len(list_svodki)"
   ]
  },
  {
   "cell_type": "code",
   "execution_count": 17,
   "id": "dd111463-ece0-4802-aa27-1b88ef9b4fc8",
   "metadata": {},
   "outputs": [],
   "source": [
    "# Сохраняем результат. \n",
    "with open('RMDR.json', 'w', encoding='utf-8') as f:\n",
    "    json.dump(list_svodki, f, ensure_ascii=False, indent=4)"
   ]
  },
  {
   "cell_type": "code",
   "execution_count": null,
   "id": "a8b2d667-1fdc-414e-9d55-b64636fefe84",
   "metadata": {},
   "outputs": [],
   "source": []
  }
 ],
 "metadata": {
  "kernelspec": {
   "display_name": "Python 3 (ipykernel)",
   "language": "python",
   "name": "python3"
  },
  "language_info": {
   "codemirror_mode": {
    "name": "ipython",
    "version": 3
   },
   "file_extension": ".py",
   "mimetype": "text/x-python",
   "name": "python",
   "nbconvert_exporter": "python",
   "pygments_lexer": "ipython3",
   "version": "3.12.7"
  }
 },
 "nbformat": 4,
 "nbformat_minor": 5
}
